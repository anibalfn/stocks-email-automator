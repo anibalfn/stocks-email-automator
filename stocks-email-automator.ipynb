{
 "cells": [
  {
   "cell_type": "code",
   "execution_count": null,
   "id": "17e1f0e7",
   "metadata": {},
   "outputs": [],
   "source": [
    "import pyautogui\n",
    "import pyperclip\n",
    "import time\n",
    "import yfinance\n",
    "\n",
    "ticker = input(\"Digite o nome da ação: \")\n",
    "data_time = input(\"Digite o período de tempo em dias: \")\n",
    "data = yfinance.Ticker(ticker)\n",
    "time_table = data.history(data_time+\"d\")\n",
    "stock_closure = time_table.Close\n",
    "max_value = stock_closure.max()\n",
    "min_value = stock_closure.min()\n",
    "current_value = stock_closure[-1]\n",
    "\n",
    "print(max_value)\n",
    "print(min_value)\n",
    "print(current_value)\n",
    "\n",
    "chart = time_table.plot()\n",
    "chart"
   ]
  },
  {
   "cell_type": "code",
   "execution_count": null,
   "id": "f5e4f63a",
   "metadata": {},
   "outputs": [],
   "source": [
    "receiver = \"anibalneto29@gmail.com\"\n",
    "subject = \"Daily analisis of stocks\"\n",
    "message = f\"\"\"\n",
    "Good day,\n",
    "Below you encounter the analysis of the stock {ticker} from the last {data_time} days:\n",
    "Max cotation: ${round(max_value,2)}\n",
    "Min cotation: ${round(min_value,2)}\n",
    "Current cotation: ${round(current_value,2)}\n",
    "\n",
    "\n",
    "Yours sincerely,\n",
    "Aníbal Figueiredo.\n",
    "\"\"\"\n",
    "\n",
    "print(receiver)\n",
    "print(subject)\n",
    "print(message)"
   ]
  },
  {
   "cell_type": "code",
   "execution_count": null,
   "id": "7722b491",
   "metadata": {},
   "outputs": [],
   "source": [
    "pyautogui.PAUSE = 5\n",
    "\n",
    "pyautogui.hotkey(\"ctrl\", \"t\")\n",
    "\n",
    "pyperclip.copy(\"https://gmail.com\")\n",
    "\n",
    "pyautogui.hotkey(\"ctrl\", \"v\")\n",
    "pyautogui.press(\"enter\")\n",
    "\n",
    "pyautogui.click(x=93, y=218)\n",
    "\n",
    "pyperclip.copy(receiver)\n",
    "pyautogui.hotkey(\"ctrl\", \"v\")\n",
    "pyautogui.press(\"tab\")\n",
    "\n",
    "pyperclip.copy(subject)\n",
    "pyautogui.hotkey(\"ctrl\", \"v\")\n",
    "\n",
    "pyautogui.press(\"tab\")\n",
    "\n",
    "pyperclip.copy(message)\n",
    "pyautogui.hotkey(\"ctrl\", \"v\")\n",
    "\n",
    "pyautogui.click(x=842, y=729)\n",
    "\n",
    "pyautogui.hotkey(\"ctrl\", \"f4\")\n",
    "\n",
    "print('E-mail sent successfully.')"
   ]
  }
 ],
 "metadata": {
  "kernelspec": {
   "display_name": "Python 3 (ipykernel)",
   "language": "python",
   "name": "python3"
  },
  "language_info": {
   "codemirror_mode": {
    "name": "ipython",
    "version": 3
   },
   "file_extension": ".py",
   "mimetype": "text/x-python",
   "name": "python",
   "nbconvert_exporter": "python",
   "pygments_lexer": "ipython3",
   "version": "3.11.5"
  }
 },
 "nbformat": 4,
 "nbformat_minor": 5
}
