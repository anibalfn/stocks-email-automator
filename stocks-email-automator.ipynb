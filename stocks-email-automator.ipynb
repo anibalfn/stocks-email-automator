{
 "cells": [
  {
   "cell_type": "code",
   "execution_count": null,
   "id": "ce65e977",
   "metadata": {},
   "outputs": [],
   "source": [
    "import pyautogui\n",
    "import pyperclip\n",
    "import time\n",
    "import yfinance\n",
    "\n",
    "ticker = input(\"Digite o nome da ação: \")\n",
    "data_time = input(\"Digite o período de tempo em dias: \")\n",
    "data = yfinance.Ticker(ticker)\n",
    "time_table = data.history(data_time+\"d\")\n",
    "stock_closure = time_table.Close\n",
    "max_value = stock_closure.max()\n",
    "min_value = stock_closure.min()\n",
    "current_value = stock_closure[-1]\n",
    "\n",
    "print(max_value)\n",
    "print(min_value)\n",
    "print(current_value)\n",
    "\n",
    "chart = time_table.plot()\n",
    "chart"
   ]
  },
  {
   "cell_type": "code",
   "execution_count": null,
   "id": "33fb0f30",
   "metadata": {},
   "outputs": [],
   "source": [
    "receiver = \"anibalneto29@gmail.com\"\n",
    "subject = \"Daily analisis of stocks\"\n",
    "message = f\"\"\"\n",
    "Good day,\n",
    "Below you encounter the analysis of the stock {ticker} from the last {data_time} days:\n",
    "Max cotation: ${round(max_value,2)}\n",
    "Min cotation: ${round(min_value,2)}\n",
    "Current cotation: ${round(current_value,2)}\n",
    "\n",
    "\n",
    "Yours sincerely,\n",
    "Aníbal Figueiredo.\n",
    "\"\"\"\n",
    "\n",
    "print(receiver)\n",
    "print(subject)\n",
    "print(message)"
   ]
  }
 ],
 "metadata": {
  "kernelspec": {
   "display_name": "Python 3 (ipykernel)",
   "language": "python",
   "name": "python3"
  },
  "language_info": {
   "codemirror_mode": {
    "name": "ipython",
    "version": 3
   },
   "file_extension": ".py",
   "mimetype": "text/x-python",
   "name": "python",
   "nbconvert_exporter": "python",
   "pygments_lexer": "ipython3",
   "version": "3.11.5"
  }
 },
 "nbformat": 4,
 "nbformat_minor": 5
}
